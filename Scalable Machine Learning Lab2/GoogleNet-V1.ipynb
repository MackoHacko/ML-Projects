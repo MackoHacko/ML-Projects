{
 "cells": [
  {
   "cell_type": "code",
   "execution_count": null,
   "metadata": {},
   "outputs": [],
   "source": [
    "import os\n",
    "from tensorflow import keras\n",
    "import numpy as np\n",
    "import math\n",
    "\n",
    "\n",
    "from tensorflow.keras.datasets import cifar10\n",
    "from tensorflow.keras.layers import Conv2D, MaxPooling2D, AveragePooling2D, ZeroPadding2D, GlobalAveragePooling2D\n",
    "from tensorflow.keras.layers import Flatten, Dense, Dropout,BatchNormalization\n",
    "from tensorflow.keras.models import Model\n",
    "from tensorflow.keras.layers import Input, concatenate\n",
    "from tensorflow.keras import optimizers, regularizers\n",
    "from tensorflow.keras.preprocessing.image import ImageDataGenerator\n",
    "from tensorflow.keras.initializers import he_normal\n",
    "from tensorflow.keras.callbacks import LearningRateScheduler, TensorBoard, ModelCheckpoint"
   ]
  },
  {
   "cell_type": "code",
   "execution_count": null,
   "metadata": {},
   "outputs": [],
   "source": [
    "num_classes        = 10\n",
    "batch_size         = 64         # 64 or 32 or other\n",
    "epochs             = 300\n",
    "iterations         = 782       \n",
    "USE_BN=True\n",
    "LRN2D_NORM = True\n",
    "DROPOUT=0.4\n",
    "CONCAT_AXIS=3\n",
    "WEIGHT_DECAY=1e-4\n",
    "DATA_FORMAT='channels_last' # Theano:'channels_first' Tensorflow:'channels_last'"
   ]
  },
  {
   "cell_type": "code",
   "execution_count": null,
   "metadata": {},
   "outputs": [],
   "source": [
    "log_filepath  = './inception_v1'"
   ]
  },
  {
   "cell_type": "code",
   "execution_count": null,
   "metadata": {},
   "outputs": [],
   "source": [
    "(x_train, y_train), (x_test, y_test) = cifar10.load_data()"
   ]
  },
  {
   "cell_type": "code",
   "execution_count": null,
   "metadata": {},
   "outputs": [],
   "source": [
    "%matplotlib inline\n",
    "\n",
    "import matplotlib.image as mpimg\n",
    "import matplotlib.pyplot as plt\n",
    "\n",
    "plt.imshow(x_train[156])"
   ]
  },
  {
   "cell_type": "code",
   "execution_count": null,
   "metadata": {},
   "outputs": [],
   "source": [
    "x_test.shape"
   ]
  },
  {
   "cell_type": "code",
   "execution_count": null,
   "metadata": {},
   "outputs": [],
   "source": [
    "x_train.shape"
   ]
  },
  {
   "cell_type": "code",
   "execution_count": null,
   "metadata": {},
   "outputs": [],
   "source": [
    "y_test.shape"
   ]
  },
  {
   "cell_type": "code",
   "execution_count": null,
   "metadata": {},
   "outputs": [],
   "source": [
    "%matplotlib inline\n",
    "\n",
    "import matplotlib.image as mpimg\n",
    "import matplotlib.pyplot as plt"
   ]
  },
  {
   "cell_type": "code",
   "execution_count": null,
   "metadata": {},
   "outputs": [],
   "source": [
    "for i in range(1,11):\n",
    "    index = np.where(y_train == i-1 )[0]\n",
    "    for j in range(1,6):\n",
    "        plt.figure(1, figsize=(15,15))\n",
    "        plt.subplot( 10,5,(i-1)*5+j )\n",
    "        plt.imshow(x_train[index[j]]  )\n",
    "        \n",
    "plt.show()\n",
    "    "
   ]
  },
  {
   "cell_type": "code",
   "execution_count": null,
   "metadata": {},
   "outputs": [],
   "source": [
    "y_train = keras.utils.to_categorical(y_train, num_classes)\n",
    "y_test  = keras.utils.to_categorical(y_test, num_classes)"
   ]
  },
  {
   "cell_type": "code",
   "execution_count": null,
   "metadata": {},
   "outputs": [],
   "source": [
    "#x_train = x_train/255"
   ]
  },
  {
   "cell_type": "code",
   "execution_count": null,
   "metadata": {},
   "outputs": [],
   "source": [
    "def inception_module(x, nf1,nf2,nf3,nf4):\n",
    "    \n",
    "    branch1 = Conv2D( filters= nf1 , kernel_size=(1,1),strides=1,padding=\"same\", activation=\"relu\")(x)\n",
    "\n",
    "    branch2 = Conv2D( filters= nf2[0] , kernel_size=(1,1),strides=1,padding=\"same\", activation=\"relu\")(x)\n",
    "    branch2 = Conv2D( filters= nf2[1] , kernel_size=(3,3),strides=1,padding=\"same\", activation=\"relu\")(branch2)\n",
    "\n",
    "    branch3 = Conv2D( filters= nf3[0] , kernel_size=(1,1),strides=1,padding=\"same\", activation=\"relu\")(x)\n",
    "    branch3 = Conv2D( filters= nf3[1] , kernel_size=(5,5),strides=1,padding=\"same\", activation=\"relu\")(branch3)\n",
    "\n",
    "    branch4 = MaxPooling2D(pool_size=(3,3),strides=1,padding=\"same\")(x)\n",
    "    branch4 = Conv2D(filters= nf4,kernel_size=(1,1),strides=1,padding=\"same\", activation=\"relu\" )(branch4)\n",
    "\n",
    "    concatenation = concatenate([branch1,branch2,branch3,branch4])\n",
    "    \n",
    "    return concatenation"
   ]
  },
  {
   "cell_type": "code",
   "execution_count": null,
   "metadata": {},
   "outputs": [],
   "source": [
    "def inception_module(x, nf1,nf2,nf3,nf4):\n",
    "    \n",
    "    branch1 = Conv2D( filters= nf1 , kernel_size=(1,1),strides=1,padding=\"same\", activation=\"relu\")(x)\n",
    "\n",
    "    branch2 = Conv2D( filters= nf2[0] , kernel_size=(1,1),strides=1,padding=\"same\", activation=\"relu\")(x)\n",
    "    branch2 = Conv2D( filters= nf2[1] , kernel_size=(3,3),strides=1,padding=\"same\", activation=\"relu\")(branch2)\n",
    "\n",
    "    branch3 = Conv2D( filters= nf3[0] , kernel_size=(1,1),strides=1,padding=\"same\", activation=\"relu\")(x)\n",
    "    branch3 = Conv2D( filters= nf3[1] , kernel_size=(5,5),strides=1,padding=\"same\", activation=\"relu\")(branch3)\n",
    "\n",
    "    branch4 = MaxPooling2D(pool_size=(3,3),strides=1,padding=\"same\")(x)\n",
    "    branch4 = Conv2D(filters= nf4,kernel_size=(1,1),strides=1,padding=\"same\", activation=\"relu\" )(branch4)\n",
    "\n",
    "    concatenation = concatenate([branch1,branch2,branch3,branch4])\n",
    "    \n",
    "    return concatenation\n",
    "\n",
    "def create_model(input_image):\n",
    "\n",
    "    x = Conv2D( filters= 64 , kernel_size=(7,7),strides=2,padding=\"same\", activation=\"relu\")(input_image)\n",
    "    x = MaxPooling2D( pool_size=(3,3),strides=2,padding='same')(x)\n",
    "    x = BatchNormalization()(x)\n",
    "\n",
    "    x = Conv2D(filters=64,kernel_size=(1,1),strides=1,padding='same',activation='relu')(x)\n",
    "    x = Conv2D(filters=192,kernel_size=(3,3),strides=1,padding='same',activation='relu')(x)\n",
    "    x = BatchNormalization()(x)\n",
    "    x = MaxPooling2D( pool_size=(3,3),strides=2,padding='same')(x)\n",
    "\n",
    "    x = inception_module(x,nf1 =64, nf2= (96,128), nf3 = (16,32), nf4=32   )\n",
    "    x = inception_module(x,nf1 =128, nf2= (128,192), nf3 = (32,96), nf4=64   )\n",
    "    x = MaxPooling2D( pool_size=(3,3),strides=2,padding='same')(x)\n",
    "\n",
    "    x = inception_module(x,nf1 =192, nf2= (96,208), nf3 = (16,48), nf4=64   )\n",
    "    x = inception_module(x,nf1 =160, nf2= (112,224), nf3 = (24,64), nf4=64   )\n",
    "    x = inception_module(x,nf1 =128, nf2= (128,256), nf3 = (24,64), nf4=64   )\n",
    "    x = inception_module(x,nf1 =112, nf2= (144,288), nf3 = (32,64), nf4=64   )\n",
    "    x = inception_module(x,nf1 =256, nf2= (160,320), nf3 = (32,128), nf4=128   )\n",
    "    x = MaxPooling2D(pool_size=(3,3),strides=2,padding='same')(x)\n",
    "\n",
    "    x = inception_module(x,nf1 =256, nf2= (160,320), nf3 = (32,128), nf4=128   )\n",
    "    x = inception_module(x,nf1 =384, nf2= (192,384), nf3 = (48,128), nf4=128   )\n",
    "    x = AveragePooling2D(pool_size=(1,1),strides=1,padding=\"valid\")(x)\n",
    "\n",
    "    x=Flatten()(x)\n",
    "    x=Dropout(DROPOUT)(x)\n",
    "\n",
    "    x=Dense(units=num_classes,activation='linear')(x)\n",
    "    x=Dense(units=num_classes,activation='softmax')(x)\n",
    "    \n",
    "    return x\n",
    "\n"
   ]
  },
  {
   "cell_type": "code",
   "execution_count": null,
   "metadata": {},
   "outputs": [],
   "source": [
    "img_input=Input(shape=(32,32,3))\n",
    "output = create_model(img_input)\n",
    "\n",
    "model=Model(img_input,output)\n",
    "model.summary()"
   ]
  },
  {
   "cell_type": "code",
   "execution_count": null,
   "metadata": {},
   "outputs": [],
   "source": [
    "x_train = x_train/255\n",
    "datagen = ImageDataGenerator(horizontal_flip=True,\n",
    "                             width_shift_range=0.125,\n",
    "                             height_shift_range=0.125,\n",
    "                             fill_mode='constant',cval=0.)\n",
    "#datagen.fit(x_train)"
   ]
  },
  {
   "cell_type": "code",
   "execution_count": null,
   "metadata": {},
   "outputs": [],
   "source": [
    "x_train = x_train*255"
   ]
  },
  {
   "cell_type": "code",
   "execution_count": null,
   "metadata": {},
   "outputs": [],
   "source": [
    "def scheduler(epoch):\n",
    "    #if epoch < 150:\n",
    "    #    return 0.1\n",
    "    #if epoch < 225:\n",
    "    #    return 0.01\n",
    "    return 0.01"
   ]
  },
  {
   "cell_type": "code",
   "execution_count": null,
   "metadata": {},
   "outputs": [],
   "source": [
    "# set optimizer\n",
    "sgd = optimizers.SGD(lr=.1, momentum=0.9, nesterov=True)\n",
    "model.compile(loss='categorical_crossentropy', optimizer=sgd, metrics=['accuracy'])\n",
    "\n",
    "# set callback\n",
    "tb_cb = TensorBoard(log_dir=log_filepath, histogram_freq=0)\n",
    "change_lr = LearningRateScheduler(scheduler)\n",
    "cbks = [change_lr,tb_cb]"
   ]
  },
  {
   "cell_type": "code",
   "execution_count": null,
   "metadata": {},
   "outputs": [],
   "source": [
    "model.fit_generator(datagen.flow(x_train, y_train,batch_size=batch_size),\n",
    "                    steps_per_epoch=iterations,\n",
    "                    epochs=epochs,\n",
    "                    callbacks=cbks,\n",
    "                    validation_data=(x_test, y_test))"
   ]
  }
 ],
 "metadata": {
  "kernelspec": {
   "display_name": "Python 3",
   "language": "python",
   "name": "python3"
  },
  "language_info": {
   "codemirror_mode": {
    "name": "ipython",
    "version": 3
   },
   "file_extension": ".py",
   "mimetype": "text/x-python",
   "name": "python",
   "nbconvert_exporter": "python",
   "pygments_lexer": "ipython3",
   "version": "3.7.3"
  }
 },
 "nbformat": 4,
 "nbformat_minor": 2
}
