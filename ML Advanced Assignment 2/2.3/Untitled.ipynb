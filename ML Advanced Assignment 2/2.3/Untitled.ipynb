{
 "cells": [
  {
   "cell_type": "code",
   "execution_count": 12,
   "metadata": {},
   "outputs": [
    {
     "name": "stdout",
     "output_type": "stream",
     "text": [
      "1:2 \n",
      "2_pa1:1 3_pa1:2 \n",
      "4_pa2:2 \n",
      "\n",
      "Likelihood:  0.980132424063\n"
     ]
    },
    {
     "data": {
      "text/plain": [
       "'\\nt.create_random_tree(5)\\nt.print_tree( ) \\n'"
      ]
     },
     "execution_count": 12,
     "metadata": {},
     "output_type": "execute_result"
    }
   ],
   "source": [
    "import pickle\n",
    "import numpy as np\n",
    "from ex_2_3 import Node, load_params, load_sample, print_tree, treeLikelihood\n",
    "from ex_2_3_tree_helper import Tree\n",
    "\n",
    "def printCat(root):\n",
    "    if root:\n",
    "        print('\\n',root.cat[0],'\\n')\n",
    "        for child in root.descendants:\n",
    "            printCat(child)\n",
    "        \n",
    "\n",
    "\"\"\"\n",
    "    The data is stored in Newick form:\n",
    "        [A,B,[C,D]E]F;\n",
    "        \n",
    "           ________A \n",
    "          |\n",
    "        F |________B\n",
    "          |          ________C\n",
    "          |         |\n",
    "          |________E\n",
    "                    |________D\n",
    "                    \n",
    "    But we are working in python. So we will work with lists that look\n",
    "    the following way:\n",
    "        \n",
    "    Tree  = ['F', pF, ['A', pA, [], 'B', pB, [], 'E', pE, ['C', pC, [], 'D', pD, []]]]\n",
    "        \n",
    "    Each variable has a name (in string format), a list of categorical parameters,\n",
    "    e.g. pF = [0.3, 0.2, 0.5], and a list of child nodes.\n",
    "\"\"\"\n",
    "\n",
    "\"\"\"\n",
    "  Load the parameters of each tree and three samples from it.\n",
    "  The data is stored in a dictionary. \n",
    "  \n",
    "  The key indicates\n",
    "      k := the number of categorical variables\n",
    "      md:= maximum depth of the generated tree\n",
    "      mb:= maximum branching factor of each node\n",
    "      alpha:= the alpha values used to draw the parameters from a Dirichlet\n",
    "  \n",
    "  None of these numbers is important for your implementation but cab be \n",
    "  used for interpretation.\n",
    "\"\"\"\n",
    "\n",
    "\n",
    "my_data_path = ''\n",
    "\n",
    "with open(my_data_path + 'tree_params.pickle', 'rb') as handle:\n",
    "    params = pickle.load(handle, encoding='latin1')\n",
    "\n",
    "with open(my_data_path + 'tree_samples.pickle', 'rb') as handle:\n",
    "    samples = pickle.load(handle)\n",
    "\n",
    "\n",
    "  \n",
    "\n",
    "\n",
    "\"\"\"\n",
    "    Construct a tree with parameters from the loaded parameter dict.\n",
    "\"\"\"\n",
    "\n",
    "params_name = list(params.keys())[0]\n",
    "params_name = 'tree_k_3_md_3_mb_5_alpha_[0.1 0.1 0.5]'\n",
    "params = params[params_name]\n",
    "root = load_params(params)\n",
    "\n",
    "\"\"\"\n",
    "    Load a matching sample into the tree.\n",
    "\"\"\"\n",
    "samples_name = params_name + '_sample_1'\n",
    "sample = samples[samples_name]\n",
    "load_sample(root, sample)\n",
    "\n",
    "\n",
    "\n",
    "\"\"\"\n",
    "Print the tree (not very sophisticated). Structure: nodename_parentname\n",
    "\"\"\"\n",
    "#print_tree(root)\n",
    "\n",
    "\"\"\"\n",
    "Print the tree with sample (not very sophisticated). Structure: nodename_parentname:sample\n",
    "\"\"\"\n",
    "print_tree(root, print_sample = True)\n",
    "\n",
    "\n",
    "print('\\nLikelihood: ', treeLikelihood(root))\n",
    "\"\"\"\n",
    "Use tree object:\n",
    "\n",
    "t = Tree()    \n",
    "    \n",
    "\n",
    "my_data_path = ''\n",
    "\n",
    "with open(my_data_path + 'tree_params.pickle', 'rb') as handle:\n",
    "    params = pickle.load(handle, encoding='latin1')\n",
    "\n",
    "key = list(params.keys())[0]   \n",
    "    \n",
    "\"\"\"\n",
    "#Load params into tree\n",
    "\"\"\"\n",
    "t.load_params(params[key])\n",
    "t.print_tree()        \n",
    "\n",
    "\"\"\"\n",
    "#Generate a random tree\n",
    "\"\"\"\n",
    "t.create_random_tree(5)\n",
    "t.print_tree( ) \n",
    "\"\"\"\n"
   ]
  },
  {
   "cell_type": "code",
   "execution_count": 3,
   "metadata": {
    "scrolled": true
   },
   "outputs": [],
   "source": [
    "my_data_path = ''\n",
    "\n",
    "with open(my_data_path + 'tree_params.pickle', 'rb') as handle:\n",
    "    params_ = pickle.load(handle, encoding='latin1')\n",
    "\n",
    "with open(my_data_path + 'tree_samples.pickle', 'rb') as handle:\n",
    "    samples = pickle.load(handle)\n",
    "  \n",
    "A=[]\n",
    "A.append(['TreeName \\ SampleNo', '1', '2', '3'])\n",
    "for i in range(len(list(params_.keys()))):\n",
    "    temp=[list(params_.keys())[i]]\n",
    "    for j in range(3):\n",
    "        params_name = list(params_.keys())[i]\n",
    "        params = params_[params_name]\n",
    "        root = load_params(params)\n",
    "        samples_name = params_name + '_sample_' + str(j+1)\n",
    "        sample = samples[samples_name]\n",
    "        load_sample(root, sample)\n",
    "        temp.append(treeLikelihood(root))\n",
    "    A.append(temp)\n",
    "    temp=[]"
   ]
  },
  {
   "cell_type": "code",
   "execution_count": 6,
   "metadata": {},
   "outputs": [
    {
     "name": "stdout",
     "output_type": "stream",
     "text": [
      "[['TreeName \\\\ SampleNo', '1', '2', '3'], ['tree_k_3_md_3_mb_7_alpha_[0.1 0.5 0.5]', 0.015575367637587247, 0.088023946612041035, 0.1325663427163154], ['tree_k_2_md_5_mb_5_alpha_[0.5 0.5]', 9.5480831028599444e-09, 1.7019600222273044e-08, 1.9887772349364955e-08], ['tree_k_3_md_10_mb_2_alpha_[0.1 0.1 0.5]', 0.62631542167567378, 0.039521551540131518, 0.62631542167567378], ['tree_k_3_md_3_mb_5_alpha_[0.1 0.1 0.5]', 0.98013242406274792, 0.98013242406274792, 0.98013242406274792], ['tree_k_2_md_10_mb_2_alpha_[0.1 0.5]', 0.88771391272767153, 0.88771391272767153, 0.88771391272767153], ['tree_k_5_md_3_mb_5_alpha_[1.  0.1 0.1 0.1 0.1]', 0.96917864630257944, 0.96917864630257944, 0.96917864630257944], ['tree_k_2_md_5_mb_7_alpha_[0.1 0.1]', 1.6817751988519836e-07, 1.084213385229921e-07, 1.9962991536944722e-06], ['tree_k_5_md_10_mb_3_alpha_[0.1 0.1 1.  0.1 0.1]', 0.47097862357148101, 0.47097862357148101, 0.51287187945096502], ['tree_k_2_md_3_mb_5_alpha_[0.1 0.1]', 0.0031340499162434768, 0.41227206024808, 0.41227206024808], ['tree_k_3_md_5_mb_5_alpha_[0.1 0.5 0.1]', 0.097049065988673938, 0.015478489631606494, 0.55175697551082103], ['tree_k_5_md_5_mb_3_alpha_[0.1 0.1 0.1 0.1 0.1]', 0.013241423226144983, 0.00020422494191284094, 0.0016386042244822634], ['tree_k_2_md_3_mb_3_alpha_[0.1 0.1]', 0.38100833201254813, 0.38100833201254813, 0.61500830118731076], ['tree_k_2_md_10_mb_4_alpha_[0.1 0.1]', 8.3402908101036812e-29, 3.1698216303449276e-30, 1.9958775342294176e-26], ['tree_k_2_md_5_mb_3_alpha_[0.1 0.1]', 0.0011832038376663079, 0.012738265223240598, 0.023390644794753109], ['tree_k_3_md_5_mb_3_alpha_[1.  1.  0.1]', 0.0094265488514867577, 0.00116047367950918, 0.0034806316622987745], ['tree_k_5_md_5_mb_7_alpha_[0.1 0.1 0.1 0.5 0.1]', 3.5517418437576476e-33, 3.5189029071839747e-29, 1.1132309079060311e-35], ['tree_k_2_md_3_mb_7_alpha_[0.1 0.5]', 0.0013813279441868005, 0.024451219849260214, 0.0022937953990344595], ['tree_k_3_md_5_mb_7_alpha_[0.5 0.1 0.1]', 4.0850083453153274e-43, 8.9618386093205958e-46, 5.4403335324341792e-50], ['tree_k_3_md_10_mb_4_alpha_[0.1 0.1 0.1]', 1.0618251222255579e-127, 1.0498286341398425e-114, 3.9216918760305518e-124], ['tree_k_5_md_3_mb_3_alpha_[0.1 0.5 0.1 0.1 0.1]', 0.22758221442785015, 0.22758221442785015, 0.17414907764218809], ['tree_k_3_md_3_mb_3_alpha_[0.1 1.  1. ]', 0.2771973872404016, 0.2771973872404016, 0.1115389415490409], ['tree_k_5_md_10_mb_2_alpha_[1.  0.5 0.1 0.5 0.5]', 0.040591590162344648, 0.037288457923848307, 0.15311568273629661], ['tree_k_2_md_10_mb_3_alpha_[1.  0.1]', 0.15039488984191382, 0.017782275009702024, 0.16304171287769331], ['tree_k_3_md_10_mb_3_alpha_[0.5 0.1 0.5]', 0.063724510946886345, 0.53885683290451392, 0.30936351503181181], ['tree_k_5_md_3_mb_7_alpha_[0.1 0.1 0.5 1.  0.1]', 7.292908469005276e-05, 8.2230419979755607e-05, 4.5918149221979369e-07], ['tree_k_5_md_10_mb_4_alpha_[0.1 0.1 0.1 0.1 0.1]', 2.4456805461860067e-299, 6.0630024270254962e-289, 8.7455785765781427e-304], ['tree_k_5_md_5_mb_5_alpha_[0.5 0.5 0.1 1.  1. ]', 4.4826857151950197e-38, 2.073715706302788e-33, 1.9518267273562464e-32]]\n"
     ]
    }
   ],
   "source": [
    "print(A)\n"
   ]
  },
  {
   "cell_type": "code",
   "execution_count": 163,
   "metadata": {
    "collapsed": true,
    "scrolled": true
   },
   "outputs": [],
   "source": [
    "import csv\n",
    "\n",
    "with open('data.csv', 'w') as f:\n",
    "    thewriter = csv.writer(f,delimiter=',')\n",
    "    thewriter.writerows(A)"
   ]
  },
  {
   "cell_type": "code",
   "execution_count": 5,
   "metadata": {
    "collapsed": true
   },
   "outputs": [],
   "source": [
    "import pandas as pd\n",
    "my_df = pd.DataFrame(A)\n",
    "my_df.to_csv('my_csv.csv', index=False, header=False)\n",
    "\n",
    "\n"
   ]
  },
  {
   "cell_type": "code",
   "execution_count": 159,
   "metadata": {
    "collapsed": true
   },
   "outputs": [],
   "source": [
    "with open('myfile.csv','w') as f:\n",
    "    for sublist in A:\n",
    "        for item in sublist:\n",
    "            f.write(str(item) + ',')\n",
    "        f.write('\\n')"
   ]
  }
 ],
 "metadata": {
  "kernelspec": {
   "display_name": "Python 3",
   "language": "python",
   "name": "python3"
  },
  "language_info": {
   "codemirror_mode": {
    "name": "ipython",
    "version": 3
   },
   "file_extension": ".py",
   "mimetype": "text/x-python",
   "name": "python",
   "nbconvert_exporter": "python",
   "pygments_lexer": "ipython3",
   "version": "3.6.2"
  }
 },
 "nbformat": 4,
 "nbformat_minor": 2
}
